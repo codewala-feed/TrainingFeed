{
 "cells": [
  {
   "cell_type": "code",
   "execution_count": null,
   "metadata": {},
   "outputs": [],
   "source": [
    "\"\"\" \n",
    "Problem:\n",
    "Write a program to store your name, age, and height in appropriate variables. \n",
    "Print these variables in a sentence.\n",
    "\n",
    "# Example Output: \"My name is John, I am 25 years old, and my height is 175.5 cm.\"\n",
    "\n",
    "\"\"\"\n",
    "name = input(\"Enter Name: \")\n",
    "age = int(input(\"Enter Age: \"))\n",
    "height = float(input(\"Enter Height: \"))\n",
    "print(f\"My name is {name}, I am {age} years old, and my height is {height} cm.\")"
   ]
  },
  {
   "cell_type": "code",
   "execution_count": null,
   "metadata": {},
   "outputs": [],
   "source": [
    "\"\"\" \n",
    "Write a program that takes two integer inputs from the user. \n",
    "print their sum, difference, product, and quotient.\n",
    "\n",
    "# Example Input: 5 3\n",
    "# Example Output: Sum: 8, Difference: 2, Product: 15, Quotient: 1.6667\n",
    "\"\"\"\n",
    "num1, num2 = input().split(\",\")\n",
    "num1 = int(num1)\n",
    "num2 = int(num2)\n",
    "\n",
    "print(f\"Sum: {(num1 + num2)}, Difference: {(num1 - num2)}, Product: {(num1 * num2)}, Quotient: {(num1 / num2)}\")\n"
   ]
  },
  {
   "cell_type": "code",
   "execution_count": null,
   "metadata": {},
   "outputs": [],
   "source": [
    "\"\"\" \n",
    "Problem: Write a program that takes two numbers as input and prints their average.\n",
    "\n",
    "# Example Input: 10, 20\n",
    "# Example Output: 15.0\n",
    "\n",
    "\"\"\"\n",
    "num1, num2 = input().split(\",\")\n",
    "num1 = int(num1)\n",
    "num2 = int(num2)\n",
    "print((num1+num2)/2)\n"
   ]
  },
  {
   "cell_type": "code",
   "execution_count": null,
   "metadata": {},
   "outputs": [],
   "source": [
    "\"\"\" \n",
    "Problem: Write a program that takes a float input as string converts it to an integer. \n",
    "Print the integer value.\n",
    "\n",
    "# Example Input: 10.5\n",
    "# Example Output: 10\n",
    "\n",
    "\"\"\"\n",
    "num1 = input(\"Enter Number:\") # '10.5\n",
    "num1 = float(num1) # 10.5\n",
    "print(int(num1)) # 10\n",
    "\n"
   ]
  },
  {
   "cell_type": "code",
   "execution_count": null,
   "metadata": {},
   "outputs": [],
   "source": [
    "\"\"\" \n",
    "Problem: Write a program that creates two variables with the same value. \n",
    "Use the id() function to print their memory addresses. Are they the same or different?\n",
    "\n",
    "Example Input:\n",
    " variable1: 240\n",
    " variable2: 240\n",
    " \n",
    "Example Output: \n",
    " Memory address of variable1: 140710908329616 \n",
    " Memory address of variable2: 140710908329616\n",
    " True\n",
    "\n",
    "\"\"\"\n",
    "variable1 = input(\"variable1: \")\n",
    "variable2 = input(\"variable2: \")\n",
    "\n",
    "print(f\"Memory address of variable1: {id(variable1)}\")\n",
    "print(f\"Memory address of variable2: {id(variable2)}\")\n",
    "print(variable1 == variable2)\n"
   ]
  },
  {
   "cell_type": "code",
   "execution_count": null,
   "metadata": {},
   "outputs": [],
   "source": [
    "\"\"\" \n",
    "Problem: Write a Python program that takes two numbers as input and\n",
    " checks whether the first number is greater than, less than, or equal to the second number.\n",
    "\n",
    "Example Input:\n",
    " Enter the first number: 10\n",
    " Enter the second number: 3\n",
    "\n",
    "Example Output:\n",
    " Greater: True\n",
    " Equal: False\n",
    " Less: False\n",
    "\n",
    "\"\"\"\n",
    "num1 = int(input(\"Enter the first number: \"))\n",
    "num2 = int(input(\"Enter the second number: \"))\n",
    "\n",
    "print(f\"Greter: {num1 > num2}\")\n",
    "print(f\"Equal: {num1 == num2}\")\n",
    "print(f\"Less: {num1 < num2}\")\n",
    "\n"
   ]
  },
  {
   "cell_type": "code",
   "execution_count": 9,
   "metadata": {},
   "outputs": [
    {
     "name": "stdout",
     "output_type": "stream",
     "text": [
      "Logical AND: False\n",
      "Logical OR: True\n"
     ]
    }
   ],
   "source": [
    "\"\"\" \n",
    "Problem: Write a Python program that takes three boolean inputs and\n",
    " prints the result of their logical AND, logical OR.\n",
    "\n",
    "Example Input:\n",
    " Enter the first boolean value (True/False): True\n",
    " Enter the second boolean value (True/False): False\n",
    " Enter the third boolean value (True/False): True\n",
    "\n",
    "Example Output:\n",
    " Logical AND: False\n",
    " Logical OR: True\n",
    "\n",
    "\"\"\"\n",
    "variable1 = input(\"Enter the first boolean value (True/False): \")\n",
    "variable2 = input(\"Enter the second boolean value (True/False): \")\n",
    "variable3 = input(\"Enter the third boolean value (True/False): \")\n",
    "\n",
    "print(f\"Logical AND: {variable1 == variable2 and variable1 == variable3}\")\n",
    "print(f\"Logical OR: {variable1 == variable2 or variable1 == variable3}\")"
   ]
  },
  {
   "cell_type": "code",
   "execution_count": 10,
   "metadata": {},
   "outputs": [
    {
     "name": "stdout",
     "output_type": "stream",
     "text": [
      "After addition: 15\n",
      "After Subtraction: 5\n",
      "After Multiplication: 15\n",
      "After Division: 7.5\n"
     ]
    }
   ],
   "source": [
    "\"\"\" \n",
    "Problem: Write a Python program that initializes a variable with a number and \n",
    "then uses short-hand assignment operators to perform and print the result after \n",
    "addition of 5, subtraction of 10, multiplication of 3, and division of 2.\n",
    "Example Input:\n",
    " Enter a number: 10\n",
    "\n",
    "Example Output:\n",
    " After addition: 15\n",
    " After subtraction: 5\n",
    " After multiplication: 15\n",
    " After division: 7.5\n",
    "\n",
    "\"\"\"\n",
    "num1 = int(input(\"Enter a number: \")) # 10\n",
    "num1 += 5\n",
    "print(f\"After addition: {num1}\") # 15\n",
    "\n",
    "num1 -= 10\n",
    "print(f\"After Subtraction: {num1}\") # 5\n",
    "\n",
    "num1 *= 3\n",
    "print(f\"After Multiplication: {num1}\") # 15\n",
    "\n",
    "num1 /= 2\n",
    "print(f\"After Division: {num1}\") # 7.5"
   ]
  },
  {
   "cell_type": "code",
   "execution_count": 11,
   "metadata": {},
   "outputs": [
    {
     "name": "stdout",
     "output_type": "stream",
     "text": [
      "9.0\n"
     ]
    }
   ],
   "source": [
    "\"\"\" \n",
    "Problem: Write a python program that takes an integer input and print square root of it.\n",
    "\n",
    "Example Input:\n",
    " Enter Number: 81\n",
    "\n",
    "Example Output:\n",
    " 9.0\n",
    "\"\"\"\n",
    "num1 = int(input(\"Enter number: \"))\n",
    "print(num1 ** (0.5))\n"
   ]
  },
  {
   "cell_type": "code",
   "execution_count": 12,
   "metadata": {},
   "outputs": [
    {
     "name": "stdout",
     "output_type": "stream",
     "text": [
      "True\n"
     ]
    }
   ],
   "source": [
    "\"\"\" \n",
    "Problem: Write a Python program that takes a string and a character as input and \n",
    "checks whether the character is present in the string.\n",
    "\n",
    "Example Input:\n",
    " Enter a string: hello\n",
    " Enter a character: e\n",
    "\n",
    "Example Output:\n",
    " True\n",
    "\n",
    "\"\"\"\n",
    "string = input(\"Enter a string: \")\n",
    "char = input(\"Enter a character: \")\n",
    "print(char in string)\n"
   ]
  },
  {
   "cell_type": "code",
   "execution_count": 14,
   "metadata": {},
   "outputs": [
    {
     "name": "stdout",
     "output_type": "stream",
     "text": [
      "True\n"
     ]
    }
   ],
   "source": [
    "\"\"\" \n",
    "Problem: Write a Python program that takes two integer variables and \n",
    "checks whether they store in same memory.\n",
    "\n",
    "Example Input:\n",
    " Enter the first value: 10\n",
    " Enter the second value: 10\n",
    "\n",
    "Example Output:\n",
    " True\n",
    "\n",
    "\"\"\"\n",
    "num1 = int(input(\"Enter the first value: \"))\n",
    "num2 = int(input(\"Enter the second value: \"))\n",
    "print(id(num1) == id(num2))"
   ]
  },
  {
   "cell_type": "markdown",
   "metadata": {},
   "source": [
    "Hello Sajid & Perveen"
   ]
  }
 ],
 "metadata": {
  "kernelspec": {
   "display_name": "Python 3",
   "language": "python",
   "name": "python3"
  },
  "language_info": {
   "codemirror_mode": {
    "name": "ipython",
    "version": 3
   },
   "file_extension": ".py",
   "mimetype": "text/x-python",
   "name": "python",
   "nbconvert_exporter": "python",
   "pygments_lexer": "ipython3",
   "version": "3.12.4"
  }
 },
 "nbformat": 4,
 "nbformat_minor": 2
}
