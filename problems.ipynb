{
 "cells": [
  {
   "cell_type": "code",
   "execution_count": null,
   "metadata": {},
   "outputs": [],
   "source": [
    "\"\"\" \n",
    "Problem:\n",
    "Write a program to store your name, age, and height in appropriate variables. \n",
    "Print these variables in a sentence.\n",
    "\n",
    "# Example Output: \"My name is John, I am 25 years old, and my height is 175.5 cm.\"\n",
    "\n",
    "\"\"\"\n",
    "name = input(\"Enter Name: \")\n",
    "age = int(input(\"Enter Age: \"))\n",
    "height = float(input(\"Enter Height: \"))\n",
    "print(f\"My name is {name}, I am {age} years old, and my height is {height} cm.\")"
   ]
  },
  {
   "cell_type": "code",
   "execution_count": null,
   "metadata": {},
   "outputs": [],
   "source": [
    "\"\"\" \n",
    "Write a program that takes two integer inputs from the user. \n",
    "print their sum, difference, product, and quotient.\n",
    "\n",
    "# Example Input: 5 3\n",
    "# Example Output: Sum: 8, Difference: 2, Product: 15, Quotient: 1.6667\n",
    "\"\"\"\n",
    "num1, num2 = input().split(\",\")\n",
    "num1 = int(num1)\n",
    "num2 = int(num2)\n",
    "\n",
    "print(f\"Sum: {(num1 + num2)}, Difference: {(num1 - num2)}, Product: {(num1 * num2)}, Quotient: {(num1 / num2)}\")\n"
   ]
  },
  {
   "cell_type": "code",
   "execution_count": null,
   "metadata": {},
   "outputs": [],
   "source": [
    "\"\"\" \n",
    "Problem: Write a program that takes two numbers as input and prints their average.\n",
    "\n",
    "# Example Input: 10, 20\n",
    "# Example Output: 15.0\n",
    "\n",
    "\"\"\"\n",
    "num1, num2 = input().split(\",\")\n",
    "num1 = int(num1)\n",
    "num2 = int(num2)\n",
    "print((num1+num2)/2)\n"
   ]
  },
  {
   "cell_type": "code",
   "execution_count": null,
   "metadata": {},
   "outputs": [],
   "source": [
    "\"\"\" \n",
    "Problem: Write a program that takes a float input as string converts it to an integer. \n",
    "Print the integer value.\n",
    "\n",
    "# Example Input: 10.5\n",
    "# Example Output: 10\n",
    "\n",
    "\"\"\"\n",
    "num1 = input(\"Enter Number:\") # '10.5\n",
    "num1 = float(num1) # 10.5\n",
    "print(int(num1)) # 10\n",
    "\n"
   ]
  },
  {
   "cell_type": "code",
   "execution_count": null,
   "metadata": {},
   "outputs": [],
   "source": [
    "\"\"\" \n",
    "Problem: Write a program that creates two variables with the same value. \n",
    "Use the id() function to print their memory addresses. Are they the same or different?\n",
    "\n",
    "Example Input:\n",
    " variable1: 240\n",
    " variable2: 240\n",
    " \n",
    "Example Output: \n",
    " Memory address of variable1: 140710908329616 \n",
    " Memory address of variable2: 140710908329616\n",
    " True\n",
    "\n",
    "\"\"\"\n",
    "variable1 = input(\"variable1: \")\n",
    "variable2 = input(\"variable2: \")\n",
    "\n",
    "print(f\"Memory address of variable1: {id(variable1)}\")\n",
    "print(f\"Memory address of variable2: {id(variable2)}\")\n",
    "print(variable1 == variable2)\n"
   ]
  },
  {
   "cell_type": "code",
   "execution_count": null,
   "metadata": {},
   "outputs": [],
   "source": [
    "\"\"\" \n",
    "Problem: Write a Python program that takes two numbers as input and\n",
    " checks whether the first number is greater than, less than, or equal to the second number.\n",
    "\n",
    "Example Input:\n",
    " Enter the first number: 10\n",
    " Enter the second number: 3\n",
    "\n",
    "Example Output:\n",
    " Greater: True\n",
    " Equal: False\n",
    " Less: False\n",
    "\n",
    "\"\"\"\n",
    "num1 = int(input(\"Enter the first number: \"))\n",
    "num2 = int(input(\"Enter the second number: \"))\n",
    "\n",
    "print(f\"Greter: {num1 > num2}\")\n",
    "print(f\"Equal: {num1 == num2}\")\n",
    "print(f\"Less: {num1 < num2}\")\n",
    "\n"
   ]
  },
  {
   "cell_type": "code",
   "execution_count": 9,
   "metadata": {},
   "outputs": [
    {
     "name": "stdout",
     "output_type": "stream",
     "text": [
      "Logical AND: False\n",
      "Logical OR: True\n"
     ]
    }
   ],
   "source": [
    "\"\"\" \n",
    "Problem: Write a Python program that takes three boolean inputs and\n",
    " prints the result of their logical AND, logical OR.\n",
    "\n",
    "Example Input:\n",
    " Enter the first boolean value (True/False): True\n",
    " Enter the second boolean value (True/False): False\n",
    " Enter the third boolean value (True/False): True\n",
    "\n",
    "Example Output:\n",
    " Logical AND: False\n",
    " Logical OR: True\n",
    "\n",
    "\"\"\"\n",
    "variable1 = input(\"Enter the first boolean value (True/False): \")\n",
    "variable2 = input(\"Enter the second boolean value (True/False): \")\n",
    "variable3 = input(\"Enter the third boolean value (True/False): \")\n",
    "\n",
    "print(f\"Logical AND: {variable1 == variable2 and variable1 == variable3}\")\n",
    "print(f\"Logical OR: {variable1 == variable2 or variable1 == variable3}\")"
   ]
  },
  {
   "cell_type": "code",
   "execution_count": 10,
   "metadata": {},
   "outputs": [
    {
     "name": "stdout",
     "output_type": "stream",
     "text": [
      "After addition: 15\n",
      "After Subtraction: 5\n",
      "After Multiplication: 15\n",
      "After Division: 7.5\n"
     ]
    }
   ],
   "source": [
    "\"\"\" \n",
    "Problem: Write a Python program that initializes a variable with a number and \n",
    "then uses short-hand assignment operators to perform and print the result after \n",
    "addition of 5, subtraction of 10, multiplication of 3, and division of 2.\n",
    "Example Input:\n",
    " Enter a number: 10\n",
    "\n",
    "Example Output:\n",
    " After addition: 15\n",
    " After subtraction: 5\n",
    " After multiplication: 15\n",
    " After division: 7.5\n",
    "\n",
    "\"\"\"\n",
    "num1 = int(input(\"Enter a number: \")) # 10\n",
    "num1 += 5\n",
    "print(f\"After addition: {num1}\") # 15\n",
    "\n",
    "num1 -= 10\n",
    "print(f\"After Subtraction: {num1}\") # 5\n",
    "\n",
    "num1 *= 3\n",
    "print(f\"After Multiplication: {num1}\") # 15\n",
    "\n",
    "num1 /= 2\n",
    "print(f\"After Division: {num1}\") # 7.5"
   ]
  },
  {
   "cell_type": "code",
   "execution_count": 11,
   "metadata": {},
   "outputs": [
    {
     "name": "stdout",
     "output_type": "stream",
     "text": [
      "9.0\n"
     ]
    }
   ],
   "source": [
    "\"\"\" \n",
    "Problem: Write a python program that takes an integer input and print square root of it.\n",
    "\n",
    "Example Input:\n",
    " Enter Number: 81\n",
    "\n",
    "Example Output:\n",
    " 9.0\n",
    "\"\"\"\n",
    "num1 = int(input(\"Enter number: \"))\n",
    "print(num1 ** (0.5))\n"
   ]
  },
  {
   "cell_type": "code",
   "execution_count": 12,
   "metadata": {},
   "outputs": [
    {
     "name": "stdout",
     "output_type": "stream",
     "text": [
      "True\n"
     ]
    }
   ],
   "source": [
    "\"\"\" \n",
    "Problem: Write a Python program that takes a string and a character as input and \n",
    "checks whether the character is present in the string.\n",
    "\n",
    "Example Input:\n",
    " Enter a string: hello\n",
    " Enter a character: e\n",
    "\n",
    "Example Output:\n",
    " True\n",
    "\n",
    "\"\"\"\n",
    "string = input(\"Enter a string: \")\n",
    "char = input(\"Enter a character: \")\n",
    "print(char in string)\n"
   ]
  },
  {
   "cell_type": "code",
   "execution_count": 14,
   "metadata": {},
   "outputs": [
    {
     "name": "stdout",
     "output_type": "stream",
     "text": [
      "True\n"
     ]
    }
   ],
   "source": [
    "\"\"\" \n",
    "Problem: Write a Python program that takes two integer variables and \n",
    "checks whether they store in same memory.\n",
    "\n",
    "Example Input:\n",
    " Enter the first value: 10\n",
    " Enter the second value: 10\n",
    "\n",
    "Example Output:\n",
    " True\n",
    "\n",
    "\"\"\"\n",
    "num1 = int(input(\"Enter the first value: \"))\n",
    "num2 = int(input(\"Enter the second value: \"))\n",
    "print(id(num1) == id(num2))"
   ]
  },
  {
   "cell_type": "markdown",
   "metadata": {},
   "source": [
    "                        Hello Sajid & Perveen"
   ]
  },
  {
   "cell_type": "code",
   "execution_count": 6,
   "metadata": {},
   "outputs": [
    {
     "name": "stdout",
     "output_type": "stream",
     "text": [
      "Perveen Sajid\n"
     ]
    }
   ],
   "source": [
    "\"\"\" \n",
    "Given the strings first_name = \"Perveen\" and last_name = \"Sajid\", create the full name \n",
    "ex:- \"Perveen Sajid\".\n",
    "\"\"\"\n",
    "first_name = \"Perveen\"\n",
    "last_name = \"Sajid\"\n",
    "full_name = first_name + \" \" + last_name\n",
    "print(full_name)"
   ]
  },
  {
   "cell_type": "code",
   "execution_count": 16,
   "metadata": {},
   "outputs": [
    {
     "name": "stdout",
     "output_type": "stream",
     "text": [
      "A.T.S.P.\n"
     ]
    }
   ],
   "source": [
    "\"\"\" \n",
    "Given the string full_name = \"Asma Tabbasum\" \n",
    "use slicing and/or concatenation to create a string with the initials \n",
    "ex:- A.T.\n",
    "\"\"\"\n",
    "full_name = \"Asma-Tabbasum-Sajid-Perveen\"\n",
    "full_name = full_name.split(\"-\") # ['Asma', 'Tabbasum', 'sajid']\n",
    "word1 = full_name[0] # asma\n",
    "word2 = full_name[1] # Tabbasum\n",
    "word3 = full_name[2] # sajid\n",
    "word4 = full_name[3]\n",
    "# A.T.S.P.\n",
    "print(word1[0] + \".\" + word2[0] + \".\" + word3[0] + \".\" + word4[0] + \".\")"
   ]
  },
  {
   "cell_type": "code",
   "execution_count": 4,
   "metadata": {},
   "outputs": [
    {
     "name": "stdout",
     "output_type": "stream",
     "text": [
      "asmatabbasukjegkekjgkjregkjngrm\n"
     ]
    }
   ],
   "source": [
    "\"\"\" \n",
    "Given the string email = \"asma@gmail.com\"\n",
    "use slicing and/or concatenation to extract the username (the part before the @ symbol).\n",
    "ex:- asma\n",
    "\"\"\"\n",
    "email = \"asmatabbasukjegkekjgkjregkjngrm@gmail.com\"\n",
    "print(email[0:-10])"
   ]
  },
  {
   "cell_type": "code",
   "execution_count": 7,
   "metadata": {},
   "outputs": [
    {
     "name": "stdout",
     "output_type": "stream",
     "text": [
      "dlrow\n"
     ]
    }
   ],
   "source": [
    "\"\"\" \n",
    "Given the string string = \"Hello, world!\"\n",
    "use slicing and/or concatenation to reverse the substring \"world\".\n",
    "ex:- dlrow\n",
    "\"\"\"\n",
    "string = \"Hello, world!\"\n",
    "print(string[-2:-7:-1])"
   ]
  },
  {
   "cell_type": "code",
   "execution_count": 17,
   "metadata": {},
   "outputs": [
    {
     "name": "stdout",
     "output_type": "stream",
     "text": [
      "1***********5678\n"
     ]
    }
   ],
   "source": [
    "\"\"\" \n",
    "Given the string credit_card = \"1234567812345678\"\n",
    "use slicing and concatenation to mask all but the first digit and last four digits.\n",
    "ex:-  \"1***********5678\".\n",
    "\"\"\"\n",
    "credit_card = \"1234567812345678\"\n",
    "\n",
    "before = credit_card[0] # 1\n",
    "stars = 11 * \"*\"  # ***********\n",
    "after = credit_card[-4:]\n",
    "print(before + stars + after)"
   ]
  },
  {
   "cell_type": "code",
   "execution_count": 19,
   "metadata": {},
   "outputs": [
    {
     "name": "stdout",
     "output_type": "stream",
     "text": [
      "2024-07-20\n",
      "12:34:56\n"
     ]
    }
   ],
   "source": [
    "\"\"\" \n",
    "Given the string data = \"2024-07-20 12:34:56\"\n",
    "use slicing and/or concatenation to extract date and time.\n",
    "ex:- 2024-07-20\n",
    "     12:34:56\n",
    "\"\"\"\n",
    "data = \"2024-07-20 12:34:56\"\n",
    "data = data.split() # ['2024-07-20', '12:34:56']\n",
    "print(data[0])\n",
    "print(data[1])"
   ]
  },
  {
   "cell_type": "code",
   "execution_count": 24,
   "metadata": {},
   "outputs": [
    {
     "name": "stdout",
     "output_type": "stream",
     "text": [
      "Python programming Hello world\n"
     ]
    }
   ],
   "source": [
    "\"\"\" \n",
    "Given the string string = \"Hello world Python programming\"\n",
    "use slicing and concatenation to rearrange it to \"Python programming Hello world\".\n",
    "\"\"\"\n",
    "sentence = \"Hello world Python programming\"\n",
    "sentence = sentence.split() #['Hello', 'world', 'Python', 'programming']\n",
    "print(sentence[2], sentence[3], sentence[0], sentence[1])"
   ]
  },
  {
   "cell_type": "code",
   "execution_count": 1,
   "metadata": {},
   "outputs": [
    {
     "name": "stdout",
     "output_type": "stream",
     "text": [
      "john.doe@gmail.com\n"
     ]
    }
   ],
   "source": [
    "\"\"\" \n",
    "Given the strings username = \"john.doe\" and domain = \"gmail.com\"\n",
    "use concatenation to create an email address with username and given domain.\n",
    "ex:- \"john.doe@gmail.com\"\n",
    "\"\"\"\n",
    "username = \"john.doe\"\n",
    "domain = \"gmail.com\"\n",
    "email = username + \"@\" + domain\n",
    "print(email)"
   ]
  },
  {
   "cell_type": "code",
   "execution_count": 26,
   "metadata": {},
   "outputs": [
    {
     "name": "stdout",
     "output_type": "stream",
     "text": [
      "salesRkfwekjrfneneport\n"
     ]
    }
   ],
   "source": [
    "\"\"\" \n",
    "Given the string filename = \"salesReport.pdf\"\n",
    "use slicing and concatenation to extract the base name without the extension.\n",
    "ex:- salesReport\n",
    "\"\"\"\n",
    "filename = \"salesReport.pdf\"\n",
    "print(filename[0:-4])"
   ]
  },
  {
   "cell_type": "code",
   "execution_count": 3,
   "metadata": {},
   "outputs": [
    {
     "name": "stdout",
     "output_type": "stream",
     "text": [
      "+1(123) 456-7890\n"
     ]
    }
   ],
   "source": [
    "\"\"\" \n",
    "Given the string phone_number = \"1234567890\"\n",
    "use slicing and concatenation to format it as \"+1(123) 456-7890\".\n",
    "\"\"\"\n",
    "phone_number = \"1234567890\"\n",
    "print(f\"+1({phone_number[0:3]}) {phone_number[3:6]}-{phone_number[6:]}\")"
   ]
  }
 ],
 "metadata": {
  "kernelspec": {
   "display_name": "Python 3",
   "language": "python",
   "name": "python3"
  },
  "language_info": {
   "codemirror_mode": {
    "name": "ipython",
    "version": 3
   },
   "file_extension": ".py",
   "mimetype": "text/x-python",
   "name": "python",
   "nbconvert_exporter": "python",
   "pygments_lexer": "ipython3",
   "version": "3.12.4"
  }
 },
 "nbformat": 4,
 "nbformat_minor": 2
}
