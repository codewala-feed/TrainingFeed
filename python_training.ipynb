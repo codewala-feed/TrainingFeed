{
 "cells": [
  {
   "cell_type": "code",
   "execution_count": null,
   "metadata": {},
   "outputs": [],
   "source": [
    "# variables\n",
    "asma = 10\n",
    "\n",
    "# data types\n",
    "\"\"\" \n",
    "1. primitive \n",
    "    - integer (int) 5 or 10 or 100\n",
    "    - string  (str) \"asma\" or 'sajidh'\n",
    "    - float   (float) 213.34 or 34.34\n",
    "    - boolean (bool) True or False\n",
    "\n",
    "2. non primitive / composite \n",
    "    - list          (list)      [1, 2, 3, \"asma\", 12.4, True]\n",
    "    - tuple         (tuple)     (1, 2, 3, 4, 3, \"asma\", 12.4, True)\n",
    "    - set           (set)       {1, 2, 3, 4, 3, \"asma\", 12.4, True}\n",
    "    - dictionary    (dict)      {\"name\": \"asma\", \"age\": 15, 1: 100}\n",
    "\n",
    "\"\"\"\n"
   ]
  },
  {
   "cell_type": "code",
   "execution_count": null,
   "metadata": {},
   "outputs": [],
   "source": [
    "# variable naming conventions\n",
    "\"\"\"\n",
    "1. variable should not start with numbers.       1abc = 10\n",
    "2. variable should not contain spaces.           asma city = \"new york\"\n",
    "3. variable can contain digits except starting   abc1 = 10\n",
    "4. variable can have or start with underscore's  asma_city = \"new york\"\n",
    "5. should not use any keywords as variable.      True = \"newyork\"\n",
    "\"\"\"\n"
   ]
  },
  {
   "cell_type": "code",
   "execution_count": null,
   "metadata": {},
   "outputs": [],
   "source": [
    "# all the keywords in python\n",
    "import keyword\n",
    "print(keyword.kwlist)"
   ]
  }
 ],
 "metadata": {
  "kernelspec": {
   "display_name": "Python 3",
   "language": "python",
   "name": "python3"
  },
  "language_info": {
   "codemirror_mode": {
    "name": "ipython",
    "version": 3
   },
   "file_extension": ".py",
   "mimetype": "text/x-python",
   "name": "python",
   "nbconvert_exporter": "python",
   "pygments_lexer": "ipython3",
   "version": "3.12.4"
  }
 },
 "nbformat": 4,
 "nbformat_minor": 2
}
