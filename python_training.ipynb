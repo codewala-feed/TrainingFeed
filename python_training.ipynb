{
 "cells": [
  {
   "cell_type": "code",
   "execution_count": null,
   "metadata": {},
   "outputs": [],
   "source": [
    "# variables\n",
    "asma = 10\n",
    "\n",
    "# data types\n",
    "\"\"\" \n",
    "1. primitive \n",
    "    - integer (int) 5 or 10 or 100\n",
    "    - string  (str) \"asma\" or 'sajidh'\n",
    "    - float   (float) 213.34 or 34.34\n",
    "    - boolean (bool) True or False\n",
    "\n",
    "2. non primitive / composite \n",
    "    - list          (list)      [1, 2, 3, \"asma\", 12.4, True]\n",
    "    - tuple         (tuple)     (1, 2, 3, 4, 3, \"asma\", 12.4, True)\n",
    "    - set           (set)       {1, 2, 3, 4, 3, \"asma\", 12.4, True}\n",
    "    - dictionary    (dict)      {\"name\": \"asma\", \"age\": 15, 1: 100}\n",
    "\n",
    "\"\"\"\n"
   ]
  },
  {
   "cell_type": "code",
   "execution_count": null,
   "metadata": {},
   "outputs": [],
   "source": [
    "# variable naming conventions\n",
    "\"\"\"\n",
    "1. variable should not start with numbers.       1abc = 10\n",
    "2. variable should not contain spaces.           asma city = \"new york\"\n",
    "3. variable can contain digits except starting   abc1 = 10\n",
    "4. variable can have or start with underscore's  asma_city = \"new york\"\n",
    "5. should not use any keywords as variable.      True = \"newyork\"\n",
    "\"\"\"\n"
   ]
  },
  {
   "cell_type": "code",
   "execution_count": null,
   "metadata": {},
   "outputs": [],
   "source": [
    "# all the keywords in python\n",
    "import keyword\n",
    "print(keyword.kwlist)"
   ]
  },
  {
   "cell_type": "code",
   "execution_count": null,
   "metadata": {},
   "outputs": [],
   "source": [
    "# del\n",
    "a = 10\n",
    "a = 30\n",
    "b = 20\n",
    "\n",
    "del a\n",
    "print(a)"
   ]
  },
  {
   "cell_type": "code",
   "execution_count": null,
   "metadata": {},
   "outputs": [],
   "source": [
    "# input\n",
    "\n",
    "\"\"\" Primitive Data Types Inputs \"\"\"\n",
    "\n",
    "# str\n",
    "name = input(\"Enter Name: \")\n",
    "print(\"Output: \", name)\n",
    "print(\"Type: \", type(name))\n",
    "\n",
    "# int\n",
    "num = int(input(\"Enter Number: \"))\n",
    "print(\"Output: \", num)\n",
    "print(\"Type: \", type(num))\n",
    "\n",
    "# float\n",
    "salary = float(input(\"Enter Salary: \"))\n",
    "print(\"Output: \", salary)\n",
    "print(\"Type: \", type(salary))\n",
    "\n",
    "# bool\n",
    "facts = bool(input(\"Facts are True or False..? \"))\n",
    "print(\"Output: \", facts)\n",
    "print(\"Type: \", type(facts))\n",
    "\n",
    "\n",
    "\"\"\" Composite Data Type Inputs \"\"\"\n"
   ]
  },
  {
   "cell_type": "code",
   "execution_count": null,
   "metadata": {},
   "outputs": [],
   "source": [
    "# type conversions\n",
    "\"\"\" \n",
    "can convert:\n",
    "    str to int\n",
    "    str to float\n",
    "    str to bool\n",
    "    \n",
    "    int to float\n",
    "    float to int\n",
    "    \n",
    "\"\"\"\n",
    "\n",
    "num = int(input(\"Enter Number: \"))\n",
    "print(f\"converted output: {float(num)} {type(float(num))}\")\n",
    "\n",
    "num = float(input(\"Enter Number: \"))\n",
    "print(f\"converted output: {int(num)} {type(int(num))}\")\n",
    "\n",
    "num = \"123.92\"\n",
    "num = float(num)\n",
    "num = int(num)\n",
    "print(num)"
   ]
  },
  {
   "cell_type": "code",
   "execution_count": null,
   "metadata": {},
   "outputs": [],
   "source": [
    "# memory model id\n",
    "num = \"kbdfwbbkjegbk3gbk4g44g4\"\n",
    "print(id(num))\n"
   ]
  },
  {
   "cell_type": "code",
   "execution_count": null,
   "metadata": {},
   "outputs": [],
   "source": [
    "# Operators\n",
    "\"\"\" \n",
    "-Arithmetic Operators\n",
    "-Relational Operators\n",
    "-Logical Operators\n",
    "-Short-hand Assignment Operators\n",
    "-Membership Operators\n",
    "-Identity Operators\n",
    "\n",
    "\"\"\"\n",
    "\n",
    "# Arithmetic Operators\n",
    "\"\"\" \n",
    "+, -, *, /, //, %, **\n",
    "\"\"\"\n",
    "num1 = 10\n",
    "num2 = 20\n",
    "print(num1 + num2)\n",
    "\n",
    "num1 = 10\n",
    "num2 = 20\n",
    "print(num1 - num2)\n",
    "\n",
    "num1 = 10\n",
    "num2 = 20\n",
    "print(num1 * num2)\n",
    "\n",
    "num1 = 28\n",
    "num2 = 2\n",
    "print(num1 / num2) # division\n",
    "\n",
    "num1 = 28\n",
    "num2 = 2\n",
    "print(num1 // num2) # division\n",
    "\n",
    "num1 = 9\n",
    "num2 = 2\n",
    "print(num1 % num2) # modulus (remainder)\n",
    "\n",
    "num1 = 10\n",
    "num2 = 2\n",
    "print(num1 ** num2) # exponential\n",
    "\n",
    "# Relational Operators\n",
    "\"\"\" \n",
    "<, >, ==, !=, <=, >=\n",
    "\"\"\"\n",
    "a = 20\n",
    "b = 5\n",
    "print(a < b) # 20 < 5\n",
    "\n",
    "a = 20\n",
    "b = 5\n",
    "print(a > b) # 20 > 5\n",
    "\n",
    "a = 20\n",
    "b = 20\n",
    "print(a == b) # 20 == 20\n",
    "\n",
    "a = 20\n",
    "b = 5\n",
    "print(a != b) # 20 != 5\n",
    "\n",
    "a = 20\n",
    "b = 5\n",
    "print(a <= b) # 20 <= 5\n",
    "\n",
    "a = 20\n",
    "b = 5\n",
    "print(a >= b) # 20 >= 5\n",
    "\n",
    "# Logical Operators\n",
    "\"\"\" \n",
    "and or\n",
    "\"\"\"\n",
    "\n",
    "a = 10\n",
    "b = 20\n",
    "\n",
    "print(a > b and a == b)\n",
    "\n",
    "\n",
    "a = 20\n",
    "b = 10\n",
    "print(a > b or a == b)\n",
    "\n",
    "\n",
    "# Short-hand Assignment Operators\n",
    "\"\"\" \n",
    "+=, -=, *=, /=, //=, %=, **=\n",
    "\"\"\"\n",
    "a = 50\n",
    "a += 5 #a = a + 5\n",
    "print(a)\n",
    "\n",
    "\n",
    "a = 50\n",
    "a -= 5 #a = a - 5\n",
    "print(a)\n",
    "\n",
    "a = 5\n",
    "a *= 5 #a = a + 5\n",
    "print(a)\n",
    "\n",
    "a = 50\n",
    "a /= 5 #a = a / 5\n",
    "print(a)\n",
    "\n",
    "a = 50\n",
    "a //= 5 #a = a // 5\n",
    "print(a)\n",
    "\n",
    "a = 50\n",
    "a %= 5 #a = a % 5\n",
    "print(a)\n",
    "\n",
    "a = 10\n",
    "a **= 5 #a = a ** 2\n",
    "print(a)\n",
    "\n",
    "# Membership Operators\n",
    "\"\"\" \n",
    "in,  not in\n",
    "\"\"\"\n",
    "n = 20\n",
    "arr1 = [10, 20, 30]\n",
    "arr2 = (10, 20, 30)\n",
    "arr3 = {10, 20, 30}\n",
    "arr4 = {1: 10, 2: 20, 3: 30}\n",
    "arr5 = \"1021030\"\n",
    "\n",
    "print(n in arr1)\n",
    "print(n in arr2)\n",
    "print(n in arr3)\n",
    "print(n not in arr4)\n",
    "print(str(n) in arr5)\n",
    "\n",
    "# Identity Operators\n",
    "\"\"\" \n",
    "is, is not (-4, +256)\n",
    "\"\"\"\n",
    "\n",
    "a = 900\n",
    "b = 900\n",
    "print(a == b) # compare values\n",
    "print(a is b) # compare id's --- id(a) == id(b)\n",
    "print(a is not b)\n",
    "\n",
    "\n",
    "name1 = \"python\"\n",
    "name2 = \"python\"\n",
    "print(name1 == name2)\n",
    "print(name1 is name2) # id(name1) == id(name2)\n",
    "\n",
    "n = 123\n",
    "m = 123\n",
    "print(n is m, id(n), id(m))"
   ]
  },
  {
   "cell_type": "code",
   "execution_count": null,
   "metadata": {},
   "outputs": [],
   "source": [
    "\"\"\" \n",
    "non zeroes: True\n",
    "zeroes: False\n",
    "\"\"\""
   ]
  },
  {
   "cell_type": "code",
   "execution_count": null,
   "metadata": {},
   "outputs": [],
   "source": [
    "name = \" python\"\n",
    "print(name)"
   ]
  },
  {
   "cell_type": "code",
   "execution_count": null,
   "metadata": {},
   "outputs": [],
   "source": [
    "# strings\n",
    "\n",
    "name = \"Asma\"\n",
    "name1 = 'asma'\n",
    "name2 = \"\"\"Sajid\"\"\"\n",
    "\n",
    "# name2 = 'Asma\"\n",
    "# name3 = ''asma\"\n",
    "\n",
    "# indexing (+ve, -ve)\n",
    "name3 = \"rayyan\"\n",
    "print(name3[1])\n",
    "print(name3[4])\n",
    "print(name3[-5])\n",
    "print(name3[-2])"
   ]
  },
  {
   "cell_type": "code",
   "execution_count": null,
   "metadata": {},
   "outputs": [],
   "source": [
    "\"\"\" \n",
    "This is asma's training\n",
    "This is asma\"s training\n",
    "This is \"asma\" training\n",
    "\"\"\"\n",
    "\n",
    "print(\"This is asma's training\")\n",
    "print('This is asma\\'s training')\n",
    "print(\"This is \\\"asma\\\" training\") \n",
    "print(\"\"\"This is \"asma\" training\"\"\")\n"
   ]
  },
  {
   "cell_type": "code",
   "execution_count": null,
   "metadata": {},
   "outputs": [],
   "source": [
    "# multiline strings\n",
    "story = \"Lorem Ipsum is simply dummy text of the printing and typesetting industry. \\\n",
    "Lorem Ipsum has been the industry's standard dummy text ever \\\n",
    "since the 1500s, when an unknown printer took a galley of type\\\n",
    "and scrambled it to make a type specimen book. \\\n",
    "It has survived not only five centuries, but also the leap into \\\n",
    "electronic typesetting, remaining essentially unchanged. \\\n",
    "It was popularised in the\"\n",
    "\n",
    "print(story)\n"
   ]
  },
  {
   "cell_type": "code",
   "execution_count": null,
   "metadata": {},
   "outputs": [],
   "source": [
    "# newline and tab space\n",
    "paragraph = \"I am a human being\\n\\tI am a student\"\n",
    "print(paragraph)"
   ]
  },
  {
   "cell_type": "markdown",
   "metadata": {},
   "source": [
    "apple-bat-cat-dog"
   ]
  },
  {
   "cell_type": "code",
   "execution_count": null,
   "metadata": {},
   "outputs": [],
   "source": [
    "a = \"apple\"\n",
    "b = \"bat\"\n",
    "c = \"cat\"\n",
    "d = \"dog\"\n",
    "print(f\"{a}-{b}-{c}-{d}\")\n",
    "print(a, b, c, d, sep=\"#\")"
   ]
  },
  {
   "cell_type": "markdown",
   "metadata": {},
   "source": []
  },
  {
   "cell_type": "code",
   "execution_count": null,
   "metadata": {},
   "outputs": [],
   "source": [
    "a = \"python\"\n",
    "b = \"training\"\n",
    "print(a, end=\"-\")\n",
    "print(b)"
   ]
  },
  {
   "cell_type": "code",
   "execution_count": null,
   "metadata": {},
   "outputs": [],
   "source": [
    "\"\"\"  \n",
    "  -string concatenation\n",
    "  -strings mutable or not\n",
    "  -unicode\n",
    "  -slicing(+ve, -ve)\n",
    "\"\"\""
   ]
  },
  {
   "cell_type": "code",
   "execution_count": null,
   "metadata": {},
   "outputs": [],
   "source": [
    "# string concatenation\n",
    "name = \"asma\"\n",
    "course = \"python\"\n",
    "\n",
    "name += \"-\" #asma-\n",
    "name += \"10\" #asma-10\n",
    "name += course #asma-10python\n",
    "print(name)\n",
    "\n",
    "# asma-10python\n"
   ]
  },
  {
   "cell_type": "code",
   "execution_count": null,
   "metadata": {},
   "outputs": [],
   "source": [
    "# strings mutable or not\n",
    "\"\"\"  \n",
    "mutable = we can change the original value\n",
    "immutable = we can't change the original value\n",
    "\"\"\"\n",
    "name = \"rayyan\"\n",
    "print(f\"Before changing: {id(name)}\")\n",
    "\n",
    "name += \"python\"\n",
    "print(f\"After Changing: {id(name)}\")\n",
    "\n",
    "print(name)"
   ]
  },
  {
   "cell_type": "code",
   "execution_count": null,
   "metadata": {},
   "outputs": [],
   "source": [
    "arr = [1, 2, 3, 4]\n",
    "print(f\"Before changing: {id(arr)}\")\n",
    "\n",
    "arr[2] = 100\n",
    "print(f\"After Changing: {id(arr)}\")\n"
   ]
  },
  {
   "cell_type": "code",
   "execution_count": null,
   "metadata": {},
   "outputs": [],
   "source": [
    "# unicode\n",
    "telugu_news = \"మరిన్ని బడ్జెట్‌ విశేషాలు! పవన్‌ కల్యాణ్‌ గురించి నిహారిక పంచుకున్న విశేషాలు.\"\n",
    "hindi_news = \" हिन्दी मे टाइप करे,\"\n",
    "tamil_news = \"தமிழ்நாடு செய்திகள்\"\n",
    "\n",
    "print(telugu_news)\n",
    "print(hindi_news)\n",
    "print(tamil_news)"
   ]
  },
  {
   "cell_type": "code",
   "execution_count": null,
   "metadata": {},
   "outputs": [],
   "source": [
    "# slicing(+ve, -ve)\n",
    "# [start:end:step]\n",
    "\n",
    "word = \"India Today\"\n",
    "print(word[0:5:1]) #India\n",
    "print(word[::]) #India Today\n",
    "print(word[6:]) #Today\n",
    "print(word[::2]) #IdaTdy\n",
    "\n",
    "\n",
    "\n",
    "print(word[::-1]) #yadoT aidnI\n",
    "print(word[-1::-2]) #ydTadI\n",
    "print(word[::-2]) #ydTadI\n",
    "\n"
   ]
  },
  {
   "cell_type": "code",
   "execution_count": null,
   "metadata": {},
   "outputs": [],
   "source": [
    "name = \"asma\"\n",
    "number = \"989\"\n",
    "# form an id with starting two letters from name and ending two digits from number\n",
    "\n",
    "unique_id = name[0:2]\n",
    "unique_id += number[1:3]\n",
    "\n",
    "print(unique_id) #as89"
   ]
  },
  {
   "cell_type": "code",
   "execution_count": null,
   "metadata": {},
   "outputs": [],
   "source": [
    "# extract the extensions\n",
    "file = \"college.png\"\n",
    "print(file[-3:]) #png\n",
    "print(file[-3:len(file)]) #png\n",
    "\n",
    "email1 = \"asma@gmail.com\"\n",
    "email2 = \"rayyan@yahoo.com\"\n",
    "\n",
    "print(email1[-10:] == \"@gmail.com\")\n",
    "print(email2[-10:] == \"@gmail.com\")\n",
    "\n",
    "email3 = \"asma@hotmail.com\"\n",
    "print(email3[-12:] == \"@hotmail.com\")"
   ]
  },
  {
   "cell_type": "code",
   "execution_count": null,
   "metadata": {},
   "outputs": [],
   "source": [
    "card = \"12345678\"\n",
    "\n",
    "# 1******78\n",
    "print(card[0] + (len(card)-3)*\"*\" + card[-2:])"
   ]
  },
  {
   "cell_type": "code",
   "execution_count": null,
   "metadata": {},
   "outputs": [],
   "source": [
    "\"\"\" \n",
    "  -upper\n",
    "  -lower\n",
    "  -capitalize\n",
    "  -replace\n",
    "  -count\n",
    "  -len\n",
    "\"\"\""
   ]
  },
  {
   "cell_type": "code",
   "execution_count": null,
   "metadata": {},
   "outputs": [],
   "source": [
    "# lower\n",
    "name = \"ASMAsajid123 %$\"\n",
    "name = name.lower()\n",
    "print(name)\n",
    "\n",
    "#upper\n",
    "branch = \"Data_science\"\n",
    "branch = branch.upper()\n",
    "print(branch)"
   ]
  },
  {
   "cell_type": "code",
   "execution_count": null,
   "metadata": {},
   "outputs": [],
   "source": [
    "# capitalize\n",
    "branch = \"data science\"\n",
    "branch = branch.split() # [data, science]\n",
    "print(branch[0].capitalize(), branch[1].capitalize())"
   ]
  },
  {
   "cell_type": "code",
   "execution_count": null,
   "metadata": {},
   "outputs": [],
   "source": [
    "# replace\n",
    "word = \"a-s-m-a\"\n",
    "print(word.replace(\"-\", \"\"))\n",
    "\n",
    "name = \"perveensajid\"\n",
    "# perveen-dijas\n",
    "w = \"sajid\"\n",
    "print(name.replace(w, \"-\"+w[::-1]))\n",
    "\n",
    "temp = \"asmarayyan\"\n",
    "# asmara1212an\n",
    "print(temp.replace(\"y\", \"12\"))"
   ]
  },
  {
   "cell_type": "code",
   "execution_count": null,
   "metadata": {},
   "outputs": [],
   "source": [
    "# count\n",
    "temp = \"asmarayyan\"\n",
    "print(temp.count(\"y\")) #2\n",
    "print(temp.count(\"a\")) #4\n",
    "print(temp.count(\"yy\")) #1\n",
    "print(temp.count(\"asma\")) #1"
   ]
  },
  {
   "cell_type": "code",
   "execution_count": null,
   "metadata": {},
   "outputs": [],
   "source": [
    "# len\n",
    "temp = \"asma_rayyan\"\n",
    "print(len(temp))\n",
    "\n",
    "temp = temp.split(\"_\") # [\"asma\", \"rayyan\"]\n",
    "print(len(temp))"
   ]
  },
  {
   "cell_type": "code",
   "execution_count": null,
   "metadata": {},
   "outputs": [],
   "source": [
    "\"\"\" \n",
    "-strip\n",
    "-lstrip\n",
    "-rstrip\n",
    "-split\n",
    "-join\n",
    "-find\n",
    "-rfind\n",
    "-index\n",
    "\"\"\"\n",
    "# strip\n",
    "name = \"  asma python \"\n",
    "name = name.strip()\n",
    "print(name)\n",
    "\n",
    "# lstrip\n",
    "branch = \"  python    \"\n",
    "branch = branch.lstrip()\n",
    "print(branch)\n",
    "\n",
    "# rstrip\n",
    "numbers = \"12 345 6  . \"\n",
    "numbers = numbers.rstrip()\n",
    "print(numbers)"
   ]
  },
  {
   "cell_type": "code",
   "execution_count": null,
   "metadata": {},
   "outputs": [],
   "source": [
    "# split\n",
    "name = \"asmatabbatsum\"\n",
    "print(name.split(\"t\"))"
   ]
  },
  {
   "cell_type": "code",
   "execution_count": null,
   "metadata": {},
   "outputs": [],
   "source": [
    "# join\n",
    "arr = [\"a\", \"b\", \"c\", \"d\"]\n",
    "result = \"\".join(arr) \n",
    "print(result)\n",
    "\n",
    "#asma python\n",
    "name = \"asma-python-asfw-wereg-ergerg-erh-erh\"\n",
    "name = name.split(\"-\") # ['asma', 'python', 'asfw', 'wereg', 'ergerg', 'erh', 'erh']\n",
    "print(\".\".join(name))"
   ]
  },
  {
   "cell_type": "code",
   "execution_count": null,
   "metadata": {},
   "outputs": [],
   "source": [
    "# index\n",
    "branch = \"Pandas\"\n",
    "print(branch.index(\"d\"))\n",
    "print(branch.index(\"z\"))"
   ]
  },
  {
   "cell_type": "code",
   "execution_count": null,
   "metadata": {},
   "outputs": [],
   "source": [
    "# find\n",
    "branch = \"Pandas\"\n",
    "print(branch.find(\"d\"))\n",
    "print(branch.find(\"z\"))"
   ]
  },
  {
   "cell_type": "code",
   "execution_count": null,
   "metadata": {},
   "outputs": [],
   "source": [
    "# rfind\n",
    "branch = \"Pandas\"\n",
    "print(branch.rfind(\"a\"))\n",
    "print(branch.rfind(\"z\"))"
   ]
  },
  {
   "cell_type": "code",
   "execution_count": null,
   "metadata": {},
   "outputs": [],
   "source": [
    "\"\"\"\n",
    "string validation functions\n",
    "  -startswith\n",
    "  -endswith\n",
    "  -isalpha\n",
    "  -isdigit\n",
    "  -isalnum\n",
    "  -isupper\n",
    "\"\"\"\n",
    "\n",
    "# startswith\n",
    "sentence = \"Here is an Example.\"\n",
    "print(sentence[0:4] == \"Here\") # Here == Here\n",
    "print(sentence.startswith(\"Here\")) # Here == Here\n",
    "\n",
    "# endswith\n",
    "email = \"asmekjbvekva@gmail.com\"\n",
    "print(email[-9:] == \"gmail.com\")\n",
    "print(email.endswith(\"gmail.com\"))\n",
    "\n",
    "# isalpha\n",
    "username = \"codewalaFeed\"\n",
    "print(username.isalpha())\n",
    "\n",
    "# isdigit\n",
    "phone = \"+1(123) 987 273\"\n",
    "print(phone.isdigit())\n",
    "\n",
    "# isalnum\n",
    "username = \"codewala123\"\n",
    "print(username.isalnum())\n",
    "\n",
    "# isupper\n",
    "word = \"hello\"\n",
    "print(word[0].isupper())\n",
    "\n",
    "# islower\n",
    "word2 = \"hello\"\n",
    "print(word2.islower())"
   ]
  },
  {
   "cell_type": "code",
   "execution_count": 22,
   "metadata": {},
   "outputs": [
    {
     "name": "stdout",
     "output_type": "stream",
     "text": [
      "Number -10 Negative\n"
     ]
    }
   ],
   "source": [
    "\"\"\" \n",
    "conditional statements\n",
    " - if\n",
    " - if-else\n",
    " - if-elif-else\n",
    "\"\"\"\n",
    "number = -10\n",
    "if (number > 0) == True: # True == True\n",
    "    print(f\"Number {number} positive\")\n",
    "else:\n",
    "    print(f\"Number {number} Negative\")    "
   ]
  },
  {
   "cell_type": "code",
   "execution_count": 2,
   "metadata": {},
   "outputs": [
    {
     "name": "stdout",
     "output_type": "stream",
     "text": [
      "Not Eligible for vote\n"
     ]
    }
   ],
   "source": [
    "\"\"\" \n",
    ">17 = eligible\n",
    "else = not eligible\n",
    "\"\"\"\n",
    "age = 18\n",
    "if (age > 18):\n",
    "    print(\"Eligible for vote\")\n",
    "elif (age <= 18 and age > 0) == True:\n",
    "    print(\"Not Eligible for vote\")\n",
    "else:\n",
    "    print(\"Invalid age\")"
   ]
  },
  {
   "cell_type": "code",
   "execution_count": null,
   "metadata": {},
   "outputs": [],
   "source": [
    "\"\"\" \n",
    "<= 0 unborn\n",
    "1 to 5 = baby\n",
    "6 to 10 = kid\n",
    "11 to 18 = boy\n",
    "19 to 60 = man\n",
    "61 to 100 = old\n",
    "> 100 = immortal\n",
    "\"\"\"\n",
    "age = 19\n",
    "if (age>=1 and age <=5):\n",
    "    print(\"Baby\")\n",
    "elif (age>=6 and age<=10):\n",
    "    print(\"Kid\")\n",
    "elif (age>=11 and age<=18):\n",
    "    print(\"Boy\")\n",
    "elif (19<=age<=60):\n",
    "    print(\"Man\")\n",
    "elif (61<=age<=100):\n",
    "    print(\"Old\")\n",
    "elif (age>100):\n",
    "    print(\"Immortal\")\n",
    "else:\n",
    "    print(\"Invalid\")\n"
   ]
  },
  {
   "cell_type": "code",
   "execution_count": 6,
   "metadata": {},
   "outputs": [
    {
     "name": "stdout",
     "output_type": "stream",
     "text": [
      "Greater than 10\n",
      "Even\n"
     ]
    }
   ],
   "source": [
    "number = 18\n",
    "if (number > 10):\n",
    "    print(\"Greater than 10\")\n",
    "if (number % 2 == 0):\n",
    "    print(\"Even\")"
   ]
  },
  {
   "cell_type": "code",
   "execution_count": 11,
   "metadata": {},
   "outputs": [
    {
     "name": "stdout",
     "output_type": "stream",
     "text": [
      "Low odd 49\n"
     ]
    }
   ],
   "source": [
    "\"\"\"  \n",
    "greater than 50\n",
    "  even = high even\n",
    "  odd = high odd\n",
    "less than 50\n",
    "  even = low even\n",
    "  odd = low odd\n",
    "\"\"\"\n",
    "number = 50\n",
    "if (number > 50):\n",
    "    if (number%2 == 0):\n",
    "        print(f\"High Even {number}\")\n",
    "    else:\n",
    "        print(f\"High odd {number}\")\n",
    "elif (number == 50):\n",
    "    print(f\"Medium {number}\")\n",
    "else:\n",
    "    if (number%2 == 0):\n",
    "        print(f\"Low Even {number}\")\n",
    "    else:\n",
    "        print(f\"Low odd {number}\")"
   ]
  },
  {
   "cell_type": "markdown",
   "metadata": {},
   "source": [
    "                                ROUGH\n",
    "# add inputs for the below three subjects\n",
    "- maths\n",
    "- science\n",
    "- history"
   ]
  },
  {
   "cell_type": "code",
   "execution_count": null,
   "metadata": {},
   "outputs": [],
   "source": [
    "maths = float(input(\"enter math score: \"))\n",
    "science = float(input(\"enter science score: \"))\n",
    "history = float(input(\"enter history score: \"))\n"
   ]
  }
 ],
 "metadata": {
  "kernelspec": {
   "display_name": "Python 3",
   "language": "python",
   "name": "python3"
  },
  "language_info": {
   "codemirror_mode": {
    "name": "ipython",
    "version": 3
   },
   "file_extension": ".py",
   "mimetype": "text/x-python",
   "name": "python",
   "nbconvert_exporter": "python",
   "pygments_lexer": "ipython3",
   "version": "3.12.4"
  }
 },
 "nbformat": 4,
 "nbformat_minor": 2
}
